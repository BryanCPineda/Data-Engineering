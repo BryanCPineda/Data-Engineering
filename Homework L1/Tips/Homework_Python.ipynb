{
 "cells": [
  {
   "cell_type": "markdown",
   "metadata": {
    "id": "tj6mxAzQT4Jr"
   },
   "source": [
    "# Homework"
   ]
  },
  {
   "cell_type": "markdown",
   "metadata": {
    "id": "mLq79sAET4Jy"
   },
   "source": [
    "Aplicarás los conceptos básicos de programación en Python. Realizarás varias actividades que te ayudarán a comprender cómo trabajar con variables, realizar operaciones entre ellas, usar estructuras de datos, y controlar el flujo del programa utilizando condicionales."
   ]
  },
  {
   "cell_type": "markdown",
   "metadata": {
    "id": "Z3JP2dRhT4Jz"
   },
   "source": [
    "1. Declaración de Variables y Tipos de Datos\n",
    "\n",
    "\n",
    "* Declara tres variables: una cadena de texto (str), un número entero (int), y un número decimal (float).\n",
    "Imprime el tipo de cada variable usando la función type().\n",
    "\n",
    "\n",
    "* Compara los tipos de las variables entre sí para verificar si son del mismo tipo. Usa operadores de comparación como == para realizar esta tarea.\n",
    "Imprime los resultados de las comparaciones."
   ]
  },
  {
   "cell_type": "code",
   "execution_count": 4,
   "metadata": {
    "id": "XD52bNryT4J0",
    "outputId": "5c98e0e3-f834-4619-98d4-42c33f300a23"
   },
   "outputs": [
    {
     "name": "stdout",
     "output_type": "stream",
     "text": [
      "<class 'str'>\n",
      "<class 'int'>\n",
      "<class 'float'>\n",
      "False\n",
      "False\n"
     ]
    }
   ],
   "source": [
    "# Actividad 1: Declaración de Variables y Tipos de Datos\n",
    "\n",
    "# Declarar variables\n",
    "cadena = \"Hola, Mundo\"\n",
    "entero = 42\n",
    "decimal = 3.14\n",
    "\n",
    "# Imprimir los tipos de datos\n",
    "print(type(cadena))  # <class 'str'>\n",
    "print(type(entero))  # <class 'int'>\n",
    "print(type(decimal))  # <class 'float'>\n",
    "\n",
    "# Comparar tipos de datos\n",
    "print(type(cadena) == type(entero))  # False\n",
    "print(type(entero) == type(decimal))  # False"
   ]
  },
  {
   "cell_type": "markdown",
   "metadata": {
    "id": "qrqJI54OT4J3"
   },
   "source": [
    "2. Operaciones Aritméticas Básicas\n",
    "\n",
    "* Declara dos variables horas_semana y horas_finDeSemana.\n",
    "Realiza la suma de estas variables y almacena el resultado en una nueva variable llamada horas_trabajadas.\n",
    "Imprime el resultado de la suma.\n",
    "Multiplicación de Salarios y Horas Laboradas:\n",
    "\n",
    "* Declara dos variables: salario_por_hora y horas_trabajadas.\n",
    "Calcula el salario total multiplicando estas dos variables.\n",
    "Imprime el salario total."
   ]
  },
  {
   "cell_type": "code",
   "execution_count": 5,
   "metadata": {
    "id": "umBCLaNaT4J4",
    "outputId": "75eb5579-6c18-466c-bf7c-9e8f7d722c3b"
   },
   "outputs": [
    {
     "name": "stdout",
     "output_type": "stream",
     "text": [
      "Resultado de la suma: 45\n",
      "Salario total: 900\n"
     ]
    }
   ],
   "source": [
    "# Actividad 2: Operaciones Aritméticas Básicas\n",
    "\n",
    "# Suma de números\n",
    "horas_semana = 40\n",
    "horas_finDeSemana = 5\n",
    "horas_trabajadas = horas_semana + horas_finDeSemana\n",
    "print(\"Resultado de la suma:\", horas_trabajadas)\n",
    "\n",
    "# Multiplicación de salarios y horas trabajadas\n",
    "salario_por_hora = 20\n",
    "salario_total = salario_por_hora * horas_trabajadas\n",
    "print(\"Salario total:\", salario_total)"
   ]
  },
  {
   "cell_type": "markdown",
   "metadata": {
    "id": "gPWmBJoDT4J4"
   },
   "source": [
    "3. Trabajando con Listas\n",
    "\n",
    "* Crea una lista llamada numeros que contenga los números del 1 al 10.\n",
    "Agrega el número 11 al final de la lista.\n",
    "Elimina el primer número de la lista.\n",
    "Imprime la lista modificada.\n",
    "\n",
    "* Usa la lista numeros del ejercicio anterior.\n",
    "Calcula la suma de todos los elementos en la lista.\n",
    "Crea un condicional que valide si el valor es mayor o igual a 60.\n",
    "Imprime el resultado de la suma."
   ]
  },
  {
   "cell_type": "code",
   "execution_count": 6,
   "metadata": {
    "id": "gjadk8GET4J5",
    "outputId": "043be1ad-b1d9-4086-995b-848f11536afe"
   },
   "outputs": [
    {
     "name": "stdout",
     "output_type": "stream",
     "text": [
      "Lista modificada: [2, 3, 4, 5, 6, 7, 8, 9, 10, 11]\n",
      "El valor es mayor o igual a 60\n"
     ]
    }
   ],
   "source": [
    "# Actividad 3: Trabajando con Listas\n",
    "\n",
    "# Crear y Manipular una Lista\n",
    "numeros = list(range(1, 11))  # Crea una lista con números del 1 al 10\n",
    "numeros.append(11)  # Agrega el número 11 al final\n",
    "numeros.pop(0)  # Elimina el primer número (el número 1)\n",
    "print(\"Lista modificada:\", numeros)  # Imprime la lista modificada [2, 3, 4, ..., 11]\n",
    "\n",
    "# Calcular la Suma de una Lista\n",
    "suma_lista = sum(numeros)\n",
    "\n",
    "# Condicional\n",
    "\n",
    "if suma_lista >= 60:\n",
    "    print(\"El valor es mayor o igual a 60\")\n",
    "else:\n",
    "    print(\"El valor es menor a 60\")\n",
    "\n"
   ]
  },
  {
   "cell_type": "markdown",
   "metadata": {
    "id": "9TDgcndcT4J5"
   },
   "source": [
    "4. Condicionales y Control de Flujo\n",
    "\n",
    "* utiliza el comando `numero = int(input(\"Ingresa un número: \"))` para obtener el número.\n",
    "* Pide al usuario que ingrese un número\n",
    "* Utiliza un condicional if para verificar si el número es par o impar.\n",
    "Imprime un mensaje indicando si el número es par o impar.\n"
   ]
  },
  {
   "cell_type": "code",
   "execution_count": 8,
   "metadata": {
    "id": "SUS_sTrQT4J6",
    "outputId": "4a3c1e9c-b5be-4d8e-bf92-0245dd04ea6f"
   },
   "outputs": [
    {
     "name": "stdout",
     "output_type": "stream",
     "text": [
      "El número es par\n"
     ]
    }
   ],
   "source": [
    "# Actividad 4: Condicionales y Control de Flujo\n",
    "\n",
    "numero = int(input(\"Ingresa un número: \"))\n",
    "if numero % 2 == 0:\n",
    "    print(\"El número es par\")\n",
    "else:\n",
    "    print(\"El número es impar\")"
   ]
  }
 ],
 "metadata": {
  "colab": {
   "provenance": []
  },
  "kernelspec": {
   "display_name": "Python 3",
   "language": "python",
   "name": "python3"
  },
  "language_info": {
   "codemirror_mode": {
    "name": "ipython",
    "version": 3
   },
   "file_extension": ".py",
   "mimetype": "text/x-python",
   "name": "python",
   "nbconvert_exporter": "python",
   "pygments_lexer": "ipython3",
   "version": "3.13.2"
  }
 },
 "nbformat": 4,
 "nbformat_minor": 0
}
